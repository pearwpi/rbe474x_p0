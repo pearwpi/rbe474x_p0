{
 "cells": [
  {
   "cell_type": "markdown",
   "id": "593eb79b",
   "metadata": {},
   "source": [
    "# P0: Alohomora!\n",
    "\n",
    "# Part2: Color Classification using a Single Gaussian\n",
    "\n",
    "## Table Of Content\n",
    "\n",
    "1. Introduction\n",
    "2. Preliminaries\n",
    "3. Software Setup\n",
    "4. Implementation\n",
    "5. Grading\n",
    "6. Report guidelines\n",
    "\n",
    "## 1. Introduction\n",
    "\n",
    "In this assignment, you will learn how to segment objects or classes based on their color properties.\n",
    "\n",
    "You will perform color segmentation to identify and classify the following objects:\n",
    "\n",
    "- **Class 0**: Green cap (Smallest one)\n",
    "- **Class 1**: Yellow cap\n",
    "- **Class 2**: Blue cap\n",
    "- **Class 3**: Red cap (Largest one)\n",
    "\n",
    "A sample output is provided below. \n",
    "\n",
    "![Blue Cap](./artefacts/sample.png)\n",
    "\n",
    "You are provided with 7 RGB images containing 4 distinct classes of objects. Your task is to perform color segmentation using Gaussian models that represent the probability distribution of each class.\n",
    "\n",
    "**Output Requirements**\n",
    "\n",
    "Include a 7x5 image grid in your report. Each row should correspond to one of the original images and its respective segmentation results, where a mask is applied to highlight the identified objects. Refer to the sample output for the expected format.\n",
    "\n",
    "## 2. Preliminaries\n",
    "\n",
    "### RGB Color Space\n",
    "\n",
    "RGB stands for Red, Green, and Blue—the primary colors of light. In the RGB color space, colors are represented as combinations of these three colors, each with varying intensities. Each color component (R, G, B) typically ranges from 0 to 255 in digital images.\n",
    "\n",
    "- **Red**: Controls the intensity of the red color in the pixel.\n",
    "- **Green**: Controls the intensity of the green color.\n",
    "- **Blue**: Controls the intensity of the blue color.\n",
    "\n",
    "By mixing different levels of these three colors, a wide range of colors can be created. For example, pure red is represented as (255, 0, 0), while white is (255, 255, 255), and black is (0, 0, 0).\n",
    "\n",
    "RGB is the most common color space used in digital imaging, displays, and cameras. It's the basis for how colors are displayed on screens, where each pixel is made up of tiny red, green, and blue subpixels.\n",
    "\n",
    "### Color Segmentation using a Single Gaussian\n",
    "\n",
    "In this assignment, you'll explore how to segment objects in images based on their color using a probabilistic approach. Instead of simply stating that a pixel is a certain color (like red or green), you'll learn how to assign probabilities to each color. This method is more accurate in real-world scenarios where sensor noise and lighting conditions can cause color variations.\n",
    "\n",
    "We approach color classification as a machine learning problem, where each pixel is assigned a probability of belonging to a specific color class (e.g., the likelihood that a pixel is part of a green cap). Essentially, given a pixel's color (R, G, B), we estimate the probability that it belongs to a particular class.\n",
    "\n",
    "Given a class, we can estimate the spread of the RGB values (probability distribution) by analyzing the dataset. However, to estimate the probability that a particular RGB value belongs to a certain class, we use Bayes' rule to solve this problem. Mathematically, \n",
    "\n",
    "![Bayes](./artefacts/bayes.png)\n",
    "\n"
   ]
  },
  {
   "cell_type": "markdown",
   "id": "08e006e8",
   "metadata": {},
   "source": [
    "Where,\n",
    "- $x$ - vector containing R, G, B values for a single pixel\n",
    "- $p(C_l | x$) - Probability that a gixen X belongs to certain class $C_l)\n",
    "- $p(x | c_l$) - Probability that a given class has $x$ as its RGB value"
   ]
  },
  {
   "cell_type": "markdown",
   "id": "cb55354f",
   "metadata": {},
   "source": [
    "If we're trying to segment out an orange fruit, we start by understanding the typical range of RGB values for the color orange. We also take into account any prior information. For example, if we know the image was taken on Mars, the chance of finding an orange fruit is practically zero. Thus, even if the color suggests otherwise, we can conclude that the object is not an orange fruit.\n",
    "\n",
    "1. In the provided training images (found in the data folder), the probability of finding each of the four classes is assumed to be equal.\n",
    "\n",
    "2. We also apply a confidence threshold to classify a pixel. If the probability of a pixel being part of the range fruit, given its RGB value, is higher than a set threshold (e.g., 0.01), we can confidently classify that pixel as belonging to the orange fruit. \n",
    "\n",
    "Because of 1 and 2, given that the threshold we set is tunable, we can write,\n",
    "\n",
    "![Bayes Approximated](./artefacts/bayes_approx.png)"
   ]
  },
  {
   "cell_type": "markdown",
   "id": "1fbcde45",
   "metadata": {},
   "source": [
    "![Final Equation](./artefacts/final_eqn.png)\n",
    "\n",
    "Here, τ is a user chosen threshold which signifies the confidence score."
   ]
  },
  {
   "cell_type": "markdown",
   "id": "b3c68927",
   "metadata": {},
   "source": [
    "To complete this task, we need to choose a probability distribution for 𝑝. The simplest choice is a Gaussian distribution, which is described by just two parameters: the mean and the covariance.\n",
    "\n",
    "For scalar data, both the mean and covariance are scalars. However, for our RGB data, the mean will be a 3-element vector representing the average RGB values, and the covariance will be a 3x3 matrix that captures the spread and correlation of these values.\n",
    "\n",
    "Mathematically, mean and variance for each class can be calculated by computing the following functions for the pixels that belong to a certain class from the training images.\n",
    "\n",
    "![Mean](./artefacts/mean.png)\n",
    "\n",
    "![Covariance](./artefacts/covariance.png)\n",
    "\n",
    "The probability density function for a particular class (say orange) is given by,\n",
    "\n",
    "![Pdf](./artefacts/pdf.png)"
   ]
  },
  {
   "cell_type": "markdown",
   "id": "8f4586dc",
   "metadata": {},
   "source": [
    "**TLDR**\n",
    "1. Estimate the mean and covariance matrix for each class after extract the RGB values from each image corresponding to that particular class.\n",
    "2. Compute the probability density function for every pixel in the provided images. Then make a binary mask using a threshold (tunable).\n",
    "3. Apply the binary mask on the provided images to segment objects of each class separately."
   ]
  },
  {
   "cell_type": "markdown",
   "id": "fa4f305e",
   "metadata": {},
   "source": [
    "## 3. Software Setup\n",
    "\n",
    "There is no starter code provided for this project. Implement your solution in Python using OpenCV.\n",
    "\n",
    "\n",
    "\n",
    "\n"
   ]
  },
  {
   "cell_type": "markdown",
   "id": "5c586079",
   "metadata": {},
   "source": [
    "## 4. Implementation (Psuedo Code for Python) "
   ]
  },
  {
   "cell_type": "code",
   "execution_count": null,
   "id": "4e9901fd",
   "metadata": {
    "vscode": {
     "languageId": "plaintext"
    }
   },
   "outputs": [],
   "source": [
    "# Training Code\n",
    "\n",
    "Rerun this code for each class separately\n",
    "\n",
    "Initialize an empty list/matrix to store RGB values from all images\n",
    "\n",
    "For each image index from 1 to 7:\n",
    "    - Read the image from the file path\n",
    "    - Display the image (imshow)\n",
    "\n",
    "    - Draw a freehand shape on the image and create a mask for this shape (`roipoly` in MATLAB, find or use any function for this in Python)\n",
    "\n",
    "    - Extract the RGB channels from the image\n",
    "    - Apply the mask to get RGB values from the selected area\n",
    "\n",
    "    - Combine the RGB values into a single list\n",
    "    - Append this list to the main list of RGB values\n",
    "\n",
    "Estimate the mean of the rgb values\n",
    "Estimate the covariance of the RGB values\n",
    "\n",
    "# Color Segmentation for a single class\n",
    "\n",
    "For i from 1 to 10:\n",
    "    - Load the image from the file\n",
    "    - Apply Gaussian distribution to the image using `applyGaussianToImage` function\n",
    "    - Create a mask where the probability is greater than 1e-6\n",
    "    - Apply the mask\n",
    "\n",
    "Function `applyGaussianToImage`:\n",
    "    - Convert image to double precision\n",
    "    - Reshape the image into a matrix where each row is a pixel vector (R, G, B)\n",
    "    - Implement and compute the probability density function (PDF) for each pixel using multivariate Gaussian \n",
    "    - Reshape the PDF result back to image dimensions\n",
    "    - Return the resulting image with PDF values"
   ]
  },
  {
   "cell_type": "code",
   "execution_count": null,
   "id": "d9e926ce",
   "metadata": {
    "vscode": {
     "languageId": "plaintext"
    }
   },
   "outputs": [],
   "source": [
    "# Training Code\n",
    "\n",
    "# Write Your Code Here or in a separate py file"
   ]
  },
  {
   "cell_type": "code",
   "execution_count": null,
   "id": "533180f4",
   "metadata": {
    "vscode": {
     "languageId": "plaintext"
    }
   },
   "outputs": [],
   "source": [
    "# Segmentation Code \n",
    "\n",
    "# Write Your Code Here or in a separate py file"
   ]
  },
  {
   "cell_type": "markdown",
   "id": "54272187",
   "metadata": {},
   "source": [
    "## 5. Grading\n",
    "\n",
    "- Results: 70% of Part2 score (segmentation performance for the provided dataset for all classes) \n",
    "- Report:  30% of Part2 Score\n",
    "\n",
    "- For RBE474X: Part1 is 100% of the grade and Part2 is 20% extra credit.\n",
    "- For RBE595-A01-SP: Part1 is 67% of the grade and Part2 is 33% of the grade.\n",
    "\n",
    "## 6. Report Guidelines\n",
    "\n",
    "Report must be in Latex.\n",
    "\n",
    "Include a 7x5 image grid in your report. Each row should correspond to one of the original images and its respective segmentation results, where a mask is applied to highlight the identified objects. Refer to the sample output for the expected format.\n",
    "\n",
    "Explain your implementation. Report your threshold values. Explain how you tuned the model.\n",
    "\n",
    "Explain the drawbacks and assumptions in using a single gaussian for color classification/segmentation."
   ]
  }
 ],
 "metadata": {
  "kernelspec": {
   "display_name": "Python 3 (ipykernel)",
   "language": "python",
   "name": "python3"
  },
  "language_info": {
   "codemirror_mode": {
    "name": "ipython",
    "version": 3
   },
   "file_extension": ".py",
   "mimetype": "text/x-python",
   "name": "python",
   "nbconvert_exporter": "python",
   "pygments_lexer": "ipython3",
   "version": "3.8.18"
  }
 },
 "nbformat": 4,
 "nbformat_minor": 5
}
